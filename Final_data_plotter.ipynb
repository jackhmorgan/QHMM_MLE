{
 "cells": [
  {
   "cell_type": "code",
   "execution_count": 1,
   "id": "afd9fd6e-f906-46f1-ad34-ae8ee369ada1",
   "metadata": {},
   "outputs": [],
   "source": [
    "import matplotlib.pyplot as plt\n",
    "import json\n",
    "import numpy as np"
   ]
  },
  {
   "cell_type": "code",
   "execution_count": 6,
   "id": "49b6054e-eda2-4f52-97d7-36c477cb8e4d",
   "metadata": {},
   "outputs": [],
   "source": [
    "folder = 'Final'\n",
    "filename = 'final_16'\n",
    "max_file_num = 19\n",
    "num_trials = 10000"
   ]
  },
  {
   "cell_type": "code",
   "execution_count": 7,
   "id": "f2a61bf7-c541-4c6f-a604-8f30f00056d7",
   "metadata": {},
   "outputs": [],
   "source": [
    "data_sans_metadata = {}\n",
    "max_k = 0\n",
    "\n",
    "with open(folder+'/'+filename+'.json', 'r') as file:\n",
    "    data = json.load(file)\n",
    "    for k, v in data.items():\n",
    "        if k.isdigit():\n",
    "            if int(k)+max_k < num_trials:\n",
    "                data_sans_metadata[max_k] = v\n",
    "                max_k += 1"
   ]
  },
  {
   "cell_type": "code",
   "execution_count": 8,
   "id": "4a73bc27-815c-4241-abc2-5ca18c55ad09",
   "metadata": {},
   "outputs": [],
   "source": [
    "for file_num in range(1, max_file_num+1):\n",
    "    with open(folder+'/'+filename+f' ({file_num}).json', 'r') as file:\n",
    "        data = json.load(file)\n",
    "        for k, v in data.items():\n",
    "            \n",
    "            if k.isdigit():\n",
    "                if int(k)+max_k < num_trials:\n",
    "                    data_sans_metadata[max_k] = v\n",
    "                    max_k += 1"
   ]
  },
  {
   "cell_type": "code",
   "execution_count": 9,
   "id": "0ca7e8a4-9d9e-48f3-b7c4-5167acaf1a1e",
   "metadata": {},
   "outputs": [
    {
     "name": "stdout",
     "output_type": "stream",
     "text": [
      "209\n"
     ]
    }
   ],
   "source": [
    "print(len(data_sans_metadata))"
   ]
  },
  {
   "cell_type": "code",
   "execution_count": 10,
   "id": "02226793-2f83-4cee-995b-47cbadcf826e",
   "metadata": {},
   "outputs": [
    {
     "name": "stdout",
     "output_type": "stream",
     "text": [
      "-632.9385898138062 4.9371713137905294e-275\n",
      "-642.9093450328565 1.0890569601455385e-279\n",
      "-638.7157281482616 1.341275754745238e-277\n",
      "-634.4555780364791 4.9004831649638325e-275\n"
     ]
    }
   ],
   "source": [
    "ratios = []\n",
    "for trial in data_sans_metadata.values():\n",
    "    #likelihood_pc = trial['trained_pc_likelihood']\n",
    "    #likelihood_pc = np.exp(model.log_likelihood(trial['sequence']))\n",
    "    likelihood_pc = np.exp(trial['model_1_likelihood'])\n",
    "    likelihood_q = trial['trained_q_likelihood']\n",
    "    #log_likelihood_q = -min(trial['training_curve_q'])/np.log(10) \n",
    "    #log_likelihood_npc = min(trial['training_curve_npc'])/np.log(10)\n",
    "    likelihood_npc = trial['trained_npc_likelihood']\n",
    "    if likelihood_npc>likelihood_pc:\n",
    "        print(trial['model_1_likelihood'], trial['trained_npc_likelihood'])\n",
    "    ratios.append(np.log10(likelihood_pc/likelihood_npc))\n",
    "    #ratios.append(np.log10(likelihood_pc/likelihood_q))\n",
    "    #ratios.append(np.log10(likelihood_q / likelihood_pc))\n",
    "    #ratios.append(np.log10(likelihood_q/likelihood_npc))\n",
    "    #ratios.append(np.log10(likelihood_pc / likelihood_q))\n",
    "    #ratios.append(np.log10(likelihood_q)-log_likelihood_npc)\n",
    "    #ratios.append(np.log10(likelihood_q / likelihood_npc))\n",
    "    #ratios.append(log_likelihood_npc - np.log10(likelihood_pc))\n",
    "    #ratios.append(likelihood_q-log_likelihood_npc)\n",
    "    #ratios.append(likelihood_q/likelihood_npc)"
   ]
  },
  {
   "cell_type": "code",
   "execution_count": 11,
   "id": "d511981a-5c07-4be0-8363-8729e07cb952",
   "metadata": {},
   "outputs": [
    {
     "name": "stdout",
     "output_type": "stream",
     "text": [
      "5.2220426010057395\n",
      "209\n"
     ]
    }
   ],
   "source": [
    "print(np.mean(ratios))\n",
    "print(len(ratios))"
   ]
  },
  {
   "cell_type": "code",
   "execution_count": 12,
   "id": "fd566b0f-2833-4d4c-94b7-9c5a6dfdd0a7",
   "metadata": {},
   "outputs": [
    {
     "data": {
      "text/plain": [
       "(array([ 4.,  6., 27., 32., 41., 43., 36., 14.,  5.,  1.]),\n",
       " array([-1.23079546,  0.11487146,  1.46053837,  2.80620529,  4.1518722 ,\n",
       "         5.49753912,  6.84320603,  8.18887295,  9.53453986, 10.88020678,\n",
       "        12.22587369]),\n",
       " <BarContainer object of 10 artists>)"
      ]
     },
     "execution_count": 12,
     "metadata": {},
     "output_type": "execute_result"
    },
    {
     "data": {
      "image/png": "[encoded data removed]",
      "text/plain": [
       "<Figure size 640x480 with 1 Axes>"
      ]
     },
     "metadata": {},
     "output_type": "display_data"
    }
   ],
   "source": [
    "title = 'PCHMM_16_NPCMM_16_500_time_steps'\n",
    "plt.rcParams.update({'font.size': 26})\n",
    "plt.hist(ratios, bins=10)\n",
    "#plt.title(title)\n",
    "#plt.xlabel(r'$\\log_{10} \\left(\\frac{\\mathscr{L}_q}{\\mathscr{L}_{npc} }\\right)$')\n",
    "#plt.ylabel(r'Trials')\n",
    "#plt.savefig(title+'.png',bbox_inches='tight', pad_inches = 0.1)"
   ]
  },
  {
   "cell_type": "code",
   "execution_count": 13,
   "id": "5f753df8-4225-4221-9a07-7a56786241e8",
   "metadata": {},
   "outputs": [
    {
     "data": {
      "text/plain": [
       "np.float64(-1.2307954555466845)"
      ]
     },
     "execution_count": 13,
     "metadata": {},
     "output_type": "execute_result"
    }
   ],
   "source": [
    "min(ratios)"
   ]
  },
  {
   "cell_type": "code",
   "execution_count": 64,
   "id": "90b59012-421d-4d57-9da5-faf77a977fc4",
   "metadata": {},
   "outputs": [],
   "source": [
    "from HMM import PC_HMM"
   ]
  },
  {
   "cell_type": "code",
   "execution_count": 65,
   "id": "c271e2c2-6f74-49ec-af38-c52ac70d10e3",
   "metadata": {},
   "outputs": [],
   "source": [
    "theta_gen = [2.1961912602516445, 0.07722519718841697, 1.1333546404402364]\n",
    "observations = [-0.006313589141205697, -0.0010981613895532023, 0.0022960204279199436, 0.007239523585948188]"
   ]
  },
  {
   "cell_type": "code",
   "execution_count": 66,
   "id": "5aded5c0-9296-4c46-b281-5050dbad280f",
   "metadata": {},
   "outputs": [],
   "source": [
    "model = PC_HMM(ncl=16,\n",
    "                k = 2,\n",
    "               theta = theta_gen,\n",
    "               observations = observations,\n",
    "              )"
   ]
  },
  {
   "cell_type": "code",
   "execution_count": 22,
   "id": "acb323e1-6b96-4124-9595-6166e4d959b9",
   "metadata": {},
   "outputs": [],
   "source": [
    "data_sans_metadata = {}\n",
    "max_k = 0\n",
    "\n",
    "with open('PC_to_PC_to_NPC_to_QHMM/pc_to_pc_to_npc_to_q_test_16_500.json', 'r') as file:\n",
    "#with open(f'PC_to_NPC_to_QHMM/4x4_100.json', 'r') as file:\n",
    "#with open(f'PC_to_NPC_to_QHMM/ncl=nql.json', 'r') as file:\n",
    "    data = json.load(file)\n",
    "    for k, v in data.items():\n",
    "        if k.isdigit():\n",
    "            if int(k)+max_k < 500:\n",
    "                data_sans_metadata[max_k] = v\n",
    "                max_k += 1"
   ]
  },
  {
   "cell_type": "code",
   "execution_count": 23,
   "id": "b79f98c4-2ffe-4ab1-a9b2-4eaf175fb1e2",
   "metadata": {
    "tags": []
   },
   "outputs": [
    {
     "name": "stdout",
     "output_type": "stream",
     "text": [
      "1\n",
      "2\n",
      "3\n",
      "4\n",
      "5\n",
      "6\n",
      "7\n",
      "8\n",
      "9\n",
      "10\n",
      "11\n"
     ]
    }
   ],
   "source": [
    "for file_num in range(1,12):\n",
    "    #with open(f'PC_to_NPC_to_QHMM/pc_test_4x4 ({file_num}).json', 'r') as file:\n",
    "    #with open(f'PC_to_NPC_to_QHMM/4x4_100 ({file_num}).json', 'r') as file:\n",
    "    #with open(f'PC_to_NPC_to_QHMM/ncl=nql ({file_num}).json', 'r') as file:\n",
    "    with open(f'PC_to_PC_to_NPC_to_QHMM/pc_to_pc_to_npc_to_q_test_16_500 ({file_num}).json', 'r') as file:\n",
    "        data = json.load(file)\n",
    "        print(file_num)\n",
    "        for k, v in data.items():\n",
    "            \n",
    "            if k.isdigit():\n",
    "                if int(k)+max_k < 500:\n",
    "                    data_sans_metadata[max_k] = v\n",
    "                    max_k += 1\n",
    "                    \n",
    "                    "
   ]
  },
  {
   "cell_type": "code",
   "execution_count": 14,
   "id": "cd107336-8254-409a-811a-8dd0b34b57e4",
   "metadata": {},
   "outputs": [
    {
     "data": {
      "text/plain": [
       "99"
      ]
     },
     "execution_count": 14,
     "metadata": {},
     "output_type": "execute_result"
    }
   ],
   "source": [
    "len(data_sans_metadata.keys())"
   ]
  },
  {
   "cell_type": "code",
   "execution_count": 60,
   "id": "4c23ec2d-4fe1-4db1-9542-14077484b516",
   "metadata": {},
   "outputs": [],
   "source": [
    "from qiskit.circuit.library import efficient_su2"
   ]
  }
 ],
 "metadata": {
  "kernelspec": {
   "display_name": "hmm",
   "language": "python",
   "name": "hmm"
  },
  "language_info": {
   "codemirror_mode": {
    "name": "ipython",
    "version": 3
   },
   "file_extension": ".py",
   "mimetype": "text/x-python",
   "name": "python",
   "nbconvert_exporter": "python",
   "pygments_lexer": "ipython3",
   "version": "3.11.0"
  }
 },
 "nbformat": 4,
 "nbformat_minor": 5
}
