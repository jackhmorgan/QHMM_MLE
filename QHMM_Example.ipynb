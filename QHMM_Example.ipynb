{
 "cells": [
  {
   "cell_type": "markdown",
   "metadata": {},
   "source": [
    "# Example QHMM implementation\n",
    "This notebook walks demonstrates how to predict and train with the Quantum Hidden Markov Model. We demonstrate this process first using a statevector simulator, then with a sampler primitive, then finally show how to customize how the QHMM submits and recieves circuits.\n",
    "\n",
    "## Chapter 1: Noiseless Statevector Results\n",
    "\n",
    "### Step 1: Define Hyperparameters\n",
    "\n",
    "All the models we look at will use the same initial state and ansatz circuits. We will also use the same parameters theta_gen and theta_train_0 for the sampling and training process.\n",
    "\n",
    "We are going to look at models with 4 hidden states. Let's define a circuit to prepare a maximally mixed initial hidden state:"
   ]
  },
  {
   "cell_type": "code",
   "execution_count": 12,
   "metadata": {},
   "outputs": [
    {
     "data": {
      "image/png": "[encoded data removed]",
      "text/plain": [
       "<Figure size 185.453x117.056 with 1 Axes>"
      ]
     },
     "execution_count": 12,
     "metadata": {},
     "output_type": "execute_result"
    }
   ],
   "source": [
    "from qiskit import QuantumCircuit\n",
    "\n",
    "# 2 qubits = 4 hidden states\n",
    "initial_state = QuantumCircuit(1, name='Initial_State')\n",
    "initial_state.h(0)\n",
    "initial_state.draw('mpl')"
   ]
  },
  {
   "cell_type": "markdown",
   "metadata": {},
   "source": [
    "We prepare a parameterized ansatz circuit that will be applied to the hidden and observed qubits with every time step:"
   ]
  },
  {
   "cell_type": "code",
   "execution_count": 13,
   "metadata": {},
   "outputs": [
    {
     "data": {
      "image/png": "[encoded data removed]",
      "text/plain": [
       "<Figure size 370.906x200.667 with 1 Axes>"
      ]
     },
     "execution_count": 13,
     "metadata": {},
     "output_type": "execute_result"
    }
   ],
   "source": [
    "from qiskit.circuit.library import real_amplitudes, efficient_su2\n",
    "\n",
    "ansatz = efficient_su2(2, reps=1, entanglement='pairwise', su2_gates=['ry'])\n",
    "ansatz.decompose(reps=1).draw('mpl')"
   ]
  },
  {
   "cell_type": "markdown",
   "metadata": {},
   "source": [
    "The training process parameters we need include the rotation angles we will use to generate training data (theta_gen) and  begin the training process (theta_train_0), as well as standard training prarameters like the maximum number or iterations (max_iter), length of the training sequence (sequence_length), and convergence tolerance (tol). \n",
    "\n",
    "The Pauli-Y rotations have a period of 4 $\\pi$, so we choose starting parameters between 2 $\\pi$ and 6 $\\pi$. We then apply constraints to keep the parameters between 0 and 8$\\pi$ throughout the training process. This allows the QHMM to take advantage of the full expresivity of the ansatz.\n",
    "\n",
    "Because we have chosen an unparameterized initial state circuit, the number of parameters in our model is equal to the number of paramters in our ansatz circuit."
   ]
  },
  {
   "cell_type": "code",
   "execution_count": 14,
   "metadata": {},
   "outputs": [],
   "source": [
    "# Training Hyperparameters\n",
    "sequence_length = 4\n",
    "tol = 1e-6\n",
    "max_iter = 100"
   ]
  },
  {
   "cell_type": "code",
   "execution_count": 15,
   "metadata": {},
   "outputs": [],
   "source": [
    "import numpy as np\n",
    "\n",
    "# Generating and starting parameters\n",
    "num_parameters = ansatz.num_parameters\n",
    "\n",
    "theta_gen = [np.random.uniform(2*np.pi,  6* np.pi) for _ in range(num_parameters)]\n",
    "theta_0 = [4*np.pi for _ in range(num_parameters)]"
   ]
  },
  {
   "cell_type": "markdown",
   "metadata": {},
   "source": [
    "### Step 2: Choose how to submit circuits\n",
    "Choose our 'result_getter' strategy. This object controls how the circuit is executed. A selection of result getters are already provided in HMM.utils.qhmm_utils, or the user can create a custom result getter when executing a QHMM on a not-yet-supported platform.\n",
    "\n",
    "We will be using the simulated result getter in this first exercise:"
   ]
  },
  {
   "cell_type": "code",
   "execution_count": 16,
   "metadata": {},
   "outputs": [],
   "source": [
    "from HMM.utils.qhmm_utils import statevector_result_getter\n",
    "\n",
    "simulator_rg = statevector_result_getter()"
   ]
  },
  {
   "cell_type": "markdown",
   "metadata": {},
   "source": [
    "### Step 3: Initialize QHMM"
   ]
  },
  {
   "cell_type": "code",
   "execution_count": 17,
   "metadata": {},
   "outputs": [],
   "source": [
    "from HMM import QHMM\n",
    "\n",
    "generating_model = QHMM(result_getter=simulator_rg,\n",
    "                        initial_state=initial_state,\n",
    "                        ansatz=ansatz,\n",
    "                        theta=theta_gen)\n",
    "\n",
    "training_model_simulator = QHMM(result_getter=simulator_rg,\n",
    "                                initial_state=initial_state,\n",
    "                                ansatz=ansatz)"
   ]
  },
  {
   "cell_type": "markdown",
   "metadata": {},
   "source": [
    "### Step 4: Generate Training Sequence"
   ]
  },
  {
   "cell_type": "code",
   "execution_count": 18,
   "metadata": {},
   "outputs": [],
   "source": [
    "sequence = generating_model.generate_sequence(sequence_length)"
   ]
  },
  {
   "cell_type": "markdown",
   "metadata": {},
   "source": [
    "### Step 5: Train Model\n",
    "\n",
    "We use the Nelder-Mead optimization method to maximize the likelihood that the training model would produce the generated sequence."
   ]
  },
  {
   "cell_type": "code",
   "execution_count": 20,
   "metadata": {},
   "outputs": [
    {
     "name": "stdout",
     "output_type": "stream",
     "text": [
      "210.57679949461001\n",
      "5.736800048258183\n",
      "3.4630037073161493\n",
      "3.8949824069886523\n",
      "3.4630037073161484\n",
      "4.724421293886035\n",
      "2.9559997572006327\n",
      "4.475333743637413\n",
      "8.309169962041908\n",
      "12.060665081020897\n",
      "3.3333335225272136\n",
      "3.333333522527212\n",
      "8.566674442728015\n",
      "4.81373170986094\n",
      "3.4786560817551493\n",
      "4.489215620103725\n",
      "3.3874634321769057\n",
      "3.9623724878438416\n",
      "3.1764737244353607\n",
      "3.690976064785243\n",
      "3.166357699756185\n",
      "2.9085451767921224\n",
      "2.9887363570944037\n",
      "3.3653818179748702\n",
      "3.0915826514048677\n",
      "2.9472250540438827\n",
      "2.903966556839387\n",
      "2.8246893060611717\n",
      "2.8282584742357417\n",
      "2.784554740724883\n",
      "2.844787968556147\n",
      "2.911254066424721\n",
      "2.8225562206152457\n",
      "2.781701376724514\n",
      "2.821668095671275\n",
      "2.872555756528408\n",
      "2.7987549076474414\n",
      "2.857470870516433\n",
      "2.781858765098339\n",
      "2.786029722443175\n",
      "2.8289039206704403\n",
      "2.777546018290269\n",
      "2.81151338500337\n",
      "2.774024560058526\n",
      "2.787235735575042\n",
      "2.776617225904974\n",
      "2.783713445996278\n",
      "2.773396093891238\n",
      "2.7908911470822773\n",
      "2.774706314584892\n",
      "2.783962535328899\n",
      "2.7734053969401273\n",
      "2.773807208130369\n",
      "2.780653290386096\n",
      "2.7723366082574485\n",
      "2.775608912191758\n",
      "2.7724501246115913\n",
      "2.77587580009674\n",
      "2.7723203445016242\n",
      "2.773039012071782\n",
      "2.775210609528256\n",
      "2.772224029320703\n",
      "2.7727010279191227\n",
      "2.7721668046947596\n",
      "2.772032420729422\n",
      "2.772620699694192\n",
      "2.774031681044207\n",
      "2.771936602934687\n",
      "2.7729498240176147\n",
      "2.7720210692941105\n",
      "2.7717369881425964\n",
      "2.7715380339178273\n",
      "2.7712743914851203\n",
      "2.7706448942985666\n",
      "2.7714611501780184\n",
      "2.7711777885548408\n",
      "2.7696307718833775\n",
      "2.7672084342175864\n",
      "2.7689624709364886\n",
      "2.766882558649755\n",
      "2.7627321743146975\n",
      "2.7628363760509886\n",
      "2.7542105279026394\n",
      "2.733289468091854\n",
      "2.741211394008906\n",
      "2.7255414240505815\n",
      "2.683809900600221\n",
      "2.679388720683312\n",
      "2.5913634450575436\n",
      "2.55687423910587\n",
      "2.412635796344124\n",
      "2.447930072749208\n",
      "2.3884932487849935\n",
      "2.791091351599308\n",
      "2.4872633283327104\n",
      "2.7924471475303116\n",
      "2.453764651565793\n",
      "2.628469917732595\n",
      "2.3866281948166637\n",
      "2.4228967692899785\n",
      "2.463303914806486\n",
      "2.403936954077991\n",
      "2.4237108800350513\n",
      "2.394034304704163\n",
      "2.453295952428533\n",
      "2.390867829670949\n",
      "2.403432213549927\n",
      "2.389549902591344\n",
      "2.3749288277798923\n",
      "2.367473834005871\n",
      "2.412455805075719\n",
      "2.3814274057253653\n",
      "2.377977389775746\n",
      "2.37326432530168\n",
      "2.3826996122739086\n",
      "2.37622606965087\n",
      "2.367630751577023\n",
      "2.3637606033742893\n",
      "2.35862712449132\n",
      "2.356646920180267\n",
      "2.349829157448339\n",
      "2.3451940735020056\n",
      "2.33220145324584\n",
      "2.336493553339869\n",
      "2.3275932090465195\n",
      "2.3211417718531115\n",
      "2.315111908238346\n",
      "2.3121132546201135\n",
      "2.2921156591235943\n",
      "2.2742609294245715\n",
      "2.2898954261162263\n",
      "2.3090523509504304\n",
      "2.30734776236681\n",
      "2.297883702858633\n",
      "2.2592940032421853\n",
      "2.243979363000368\n",
      "2.2829349696819556\n",
      "2.317354497270698\n",
      "2.273009749506914\n",
      "2.235451443200244\n",
      "2.2111735037328826\n",
      "2.247274591032367\n",
      "2.204974915633358\n",
      "2.1801026256188694\n",
      "2.179621077532393\n",
      "2.1819792416879515\n",
      "2.1756740750910466\n",
      "2.186519159445702\n",
      "2.1208962861835503\n",
      "2.0751259593729077\n",
      "2.105538243718139\n",
      "2.1118407192306314\n",
      "2.0825531283150367\n",
      "2.0340141054093115\n",
      "2.0453347545046126\n",
      "2.040143074075572\n",
      "2.033839728661025\n",
      "2.069646551816537\n",
      "1.999703717495705\n",
      "1.9907000657110188\n",
      "1.9855957955121113\n",
      "2.029058522815352\n",
      "1.979280041595527\n",
      "2.0160360189873794\n",
      "1.9315831495464388\n",
      "1.9035180200601776\n",
      "2.045312360390491\n",
      "1.9751600006179895\n",
      "1.9797198613317162\n",
      "1.9289281813079917\n",
      "1.9270747046534165\n",
      "1.9293347203065587\n",
      "1.8542443474197996\n",
      "1.819725193507501\n"
     ]
    }
   ],
   "source": [
    "from HMM.utils.qhmm_utils import minimize_qhmm\n",
    "\n",
    "theta_trained, training_time, num_iterations, training_curve = minimize_qhmm(model = training_model_simulator,\n",
    "              sequence=sequence,\n",
    "              theta_0=theta_0,\n",
    "              max_iter=max_iter,\n",
    "              tol=tol)\n"
   ]
  },
  {
   "cell_type": "code",
   "execution_count": 21,
   "metadata": {},
   "outputs": [
    {
     "name": "stdout",
     "output_type": "stream",
     "text": [
      "Theta_gen:  [9.461534431414062, 8.504579346090114, 14.799621352494869, 13.735939215164262]\n",
      "Trained theta:  [9.167816060483819, 15.520778072163157, 17.84715634166499, 12.797948771386206]\n"
     ]
    }
   ],
   "source": [
    "print('Theta_gen: ', theta_gen)\n",
    "print('Trained theta: ', theta_trained)"
   ]
  },
  {
   "cell_type": "code",
   "execution_count": 22,
   "metadata": {},
   "outputs": [],
   "source": [
    "from scipy.stats import entropy\n",
    "\n",
    "def generate_sequences(model, n_sequences, length):\n",
    "    \"\"\"Generate sequences from an HMM model.\"\"\"\n",
    "    sequences = []\n",
    "    for _ in range(n_sequences):\n",
    "        seq = model.generate_sequence(length)\n",
    "        if not isinstance(seq, list):\n",
    "            seq = seq.tolist()\n",
    "        sequences.append(seq)\n",
    "    return sequences\n",
    "\n",
    "def calculate_kl_divergence(model1, model2, sequences):\n",
    "    \"\"\"Calculate the KL divergence between two HMM models using generated sequences.\"\"\"\n",
    "    log_prob_model1 = np.array([model1.log_likelihood(seq) for seq in sequences])\n",
    "    log_prob_model2 = np.array([model2.log_likelihood(seq) for seq in sequences])\n",
    "    \n",
    "    # Convert log probabilities to probabilities\n",
    "    prob_model1 = np.exp(log_prob_model1)\n",
    "    prob_model2 = np.exp(log_prob_model2)\n",
    "    \n",
    "    # Normalize the probabilities to get a distribution\n",
    "    prob_model1 /= prob_model1.sum()\n",
    "    prob_model2 /= prob_model2.sum()\n",
    "    \n",
    "    # Calculate KL divergence\n",
    "    kl_divergence = entropy(prob_model1, prob_model2)\n",
    "    return kl_divergence\n",
    "\n",
    "def kl_divergence_between_hmm(model1, model2, n_sequences=100, sequence_length=5):\n",
    "    \"\"\"\n",
    "    Calculate the KL divergence between two HMM models.\n",
    "    \n",
    "    Parameters:\n",
    "    - model1: First HMM model\n",
    "    - model2: Second HMM model\n",
    "    - n_sequences: Number of sequences to generate\n",
    "    - sequence_length: Length of each sequence\n",
    "    \n",
    "    Returns:\n",
    "    - kl_divergence: The KL divergence between the two models\n",
    "    \"\"\"\n",
    "    # Generate sequences from the first model\n",
    "    sequences = generate_sequences(model1, n_sequences, sequence_length)\n",
    "    \n",
    "    # Calculate KL divergence\n",
    "    kl_divergence = calculate_kl_divergence(model1, model2, sequences)\n",
    "    \n",
    "    return kl_divergence"
   ]
  },
  {
   "cell_type": "code",
   "execution_count": 23,
   "metadata": {},
   "outputs": [],
   "source": [
    "from HMM import PC_HMM\n",
    "\n",
    "theta_0_c = [0.1, 0.1, 0.1]\n",
    "observations = [-0.3, -0.1, 0.1, 0.3]\n",
    "\n",
    "model_2 = PC_HMM(k=1,\n",
    "                ncl=4,\n",
    "                theta=theta_0_c,\n",
    "                observations = observations)"
   ]
  },
  {
   "cell_type": "code",
   "execution_count": 24,
   "metadata": {},
   "outputs": [
    {
     "data": {
      "image/png": "[encoded data removed]",
      "text/plain": [
       "<Figure size 640x480 with 1 Axes>"
      ]
     },
     "metadata": {},
     "output_type": "display_data"
    }
   ],
   "source": [
    "import matplotlib.pyplot as plt\n",
    "\n",
    "plt.plot(training_curve)\n",
    "plt.xlabel('iteration')\n",
    "plt.ylabel('-log-likelihood')\n",
    "plt.title('Training Curve')\n",
    "plt.show()"
   ]
  },
  {
   "cell_type": "markdown",
   "metadata": {},
   "source": [
    "## Chapter 2: Sampler Results\n",
    "\n",
    "Let's see what a circuit generated by the qhmm looks like. The 100 time step circuit is a bit long, so for simplicities sake let's look at two time step circuit:"
   ]
  },
  {
   "cell_type": "code",
   "execution_count": 25,
   "metadata": {},
   "outputs": [
    {
     "data": {
      "image/png": "[encoded data removed]",
      "text/plain": [
       "<Figure size 1225.96x367.889 with 1 Axes>"
      ]
     },
     "execution_count": 25,
     "metadata": {},
     "output_type": "execute_result"
    }
   ],
   "source": [
    "circuit = training_model_simulator.construct_circuit(num_time_steps=2)\n",
    "circuit.decompose(reps=0).decompose().draw('mpl')"
   ]
  },
  {
   "cell_type": "markdown",
   "metadata": {},
   "source": [
    "Let $d_i$ and $d_a$ be the depths of the initial state and ansatz circuits respectively. The full depth of the QHMM circuit is $d_i + (d_a \\times t)$ where $t$ is the number of time steps. \n",
    "\n",
    "Lets transpile both circuits for ibm_torino, and see what the circuit depth would be for different numbers of time steps:"
   ]
  },
  {
   "cell_type": "code",
   "execution_count": 26,
   "metadata": {},
   "outputs": [
    {
     "name": "stdout",
     "output_type": "stream",
     "text": [
      "circuit depth for 100 time steps:  1103\n",
      "circuit depth for 1000 time steps:  11003\n",
      "circuit depth for 10,000 time steps:  110003\n"
     ]
    }
   ],
   "source": [
    "from qiskit import transpile\n",
    "from qiskit_ibm_runtime.fake_provider import FakeTorino\n",
    "\n",
    "backend = FakeTorino()\n",
    "\n",
    "d_i = transpile(initial_state, backend).depth()\n",
    "d_a = transpile(ansatz, backend).depth()\n",
    "\n",
    "print('circuit depth for 100 time steps: ', d_i + (100*d_a))\n",
    "print('circuit depth for 1000 time steps: ', d_i + (1000*d_a))\n",
    "print('circuit depth for 10,000 time steps: ', d_i + (10000*d_a))"
   ]
  },
  {
   "cell_type": "markdown",
   "metadata": {},
   "source": [
    "For demonstration purposes, here is how to train a model within a qiskit-ibm-runtime session. For simplicity, we define a new set of data with only 4 time steps and limit our training process to 10 iterations."
   ]
  },
  {
   "cell_type": "code",
   "execution_count": 27,
   "metadata": {},
   "outputs": [
    {
     "data": {
      "text/plain": [
       "'\\nfrom qiskit_ibm_runtime import SamplerV2, Session, QiskitRuntimeService\\nfrom HMM.utils.qhmm_utils import sampler_result_getter\\n\\nservice = QiskitRuntimeService()\\nbackend = service.least_busy(simulator=False)\\n\\nsequence_length=4\\nmax_iter=10\\n  \\nsampler_sequence = generating_model.generate_sequence(length=sequence_length)\\n\\n\\nwith Session(backend=backend) as session:\\n    sampler = SamplerV2(mode=session)\\n    sampler_rg = sampler_result_getter(sampler)\\n\\n    training_model_sampler= QHMM(result_getter=sampler_rg,\\n                                initial_state=initial_state,\\n                                ansatz=ansatz)\\n    \\n    theta_trained, training_time, training_curve = minimize_qhmm(model = training_model_sampler,\\n              sequence=sampler_sequence,\\n              theta_0=theta_0,\\n              max_iter=max_iter,\\n              tol=tol)\\n'"
      ]
     },
     "execution_count": 27,
     "metadata": {},
     "output_type": "execute_result"
    }
   ],
   "source": [
    "'''\n",
    "from qiskit_ibm_runtime import SamplerV2, Session, QiskitRuntimeService\n",
    "from HMM.utils.qhmm_utils import sampler_result_getter\n",
    "\n",
    "service = QiskitRuntimeService()\n",
    "backend = service.least_busy(simulator=False)\n",
    "\n",
    "sequence_length=4\n",
    "max_iter=10\n",
    "  \n",
    "sampler_sequence = generating_model.generate_sequence(length=sequence_length)\n",
    "\n",
    "\n",
    "with Session(backend=backend) as session:\n",
    "    sampler = SamplerV2(mode=session)\n",
    "    sampler_rg = sampler_result_getter(sampler)\n",
    "\n",
    "    training_model_sampler= QHMM(result_getter=sampler_rg,\n",
    "                                initial_state=initial_state,\n",
    "                                ansatz=ansatz)\n",
    "    \n",
    "    theta_trained, training_time, training_curve = minimize_qhmm(model = training_model_sampler,\n",
    "              sequence=sampler_sequence,\n",
    "              theta_0=theta_0,\n",
    "              max_iter=max_iter,\n",
    "              tol=tol)\n",
    "'''"
   ]
  },
  {
   "cell_type": "markdown",
   "metadata": {},
   "source": [
    "Let's look at the training process on the FakeTorino provider:"
   ]
  },
  {
   "cell_type": "code",
   "execution_count": 28,
   "metadata": {},
   "outputs": [],
   "source": [
    "from qiskit_ibm_runtime import SamplerV2\n",
    "from HMM.utils.qhmm_utils import sampler_result_getter\n",
    "\n",
    "backend = FakeTorino()\n",
    "\n",
    "sampler = SamplerV2(mode=backend)\n",
    "sampler_rg = sampler_result_getter(sampler=sampler)\n",
    "\n",
    "sequence_length=4\n",
    "max_iter=10"
   ]
  },
  {
   "cell_type": "code",
   "execution_count": 29,
   "metadata": {},
   "outputs": [],
   "source": [
    "generating_model_sampler= QHMM(result_getter=sampler_rg,\n",
    "                             initial_state=initial_state,\n",
    "                             ansatz=ansatz,\n",
    "                             theta=theta_gen)\n",
    "\n",
    "training_model_sampler= QHMM(result_getter=sampler_rg,\n",
    "                                initial_state=initial_state,\n",
    "                                ansatz=ansatz)"
   ]
  },
  {
   "cell_type": "code",
   "execution_count": 32,
   "metadata": {},
   "outputs": [],
   "source": [
    "import warnings\n",
    "warnings.filterwarnings('ignore')\n",
    "\n",
    "sampler_sequence = generating_model_sampler.generate_sequence(length=sequence_length)"
   ]
  },
  {
   "cell_type": "code",
   "execution_count": 33,
   "metadata": {},
   "outputs": [
    {
     "name": "stdout",
     "output_type": "stream",
     "text": [
      "5.298317366548036\n",
      "2.0794415416798357\n",
      "2.8302178350764176\n",
      "2.5383074265151158\n",
      "2.8473122684357177\n",
      "1.4524341636244356\n",
      "1.3903023825174294\n",
      "4.074541934925921\n",
      "2.9187712324178627\n",
      "1.523260216193048\n",
      "1.6347557204183902\n",
      "1.903808973036678\n",
      "1.9310215365615626\n",
      "2.111964733385396\n",
      "1.5994875815809322\n",
      "2.2730262907525014\n",
      "1.374365790254617\n",
      "1.2207799226423173\n",
      "1.584745299843729\n",
      "1.5186835491656363\n",
      "1.6144504542576446\n",
      "1.2946271725940668\n",
      "1.410587053688935\n",
      "1.2801341652915\n",
      "1.6398971199188088\n",
      "1.2073117055914506\n"
     ]
    }
   ],
   "source": [
    "theta_trained, training_time, num_iterations, training_curve = minimize_qhmm(model = training_model_sampler,\n",
    "              sequence=sampler_sequence,\n",
    "              theta_0=theta_0,\n",
    "              max_iter=max_iter,\n",
    "              tol=tol)"
   ]
  },
  {
   "cell_type": "code",
   "execution_count": 34,
   "metadata": {},
   "outputs": [
    {
     "data": {
      "image/png": "[encoded data removed]",
      "text/plain": [
       "<Figure size 640x480 with 1 Axes>"
      ]
     },
     "metadata": {},
     "output_type": "display_data"
    }
   ],
   "source": [
    "plt.plot(training_curve)\n",
    "plt.xlabel('iteration')\n",
    "plt.ylabel('-log-likelihood')\n",
    "plt.title('Training Curve')\n",
    "plt.show()"
   ]
  },
  {
   "cell_type": "markdown",
   "metadata": {},
   "source": [
    "This final QHMM demonstration will show how to customize the circuit submittion process. This allows the user to use with new qiskit add-ons or other quantum platforms to submit and retrieve circuits, without breaking the model code.\n",
    "\n",
    "To do this, all we have to do is create a new result_getter. Let's try a circuit "
   ]
  },
  {
   "cell_type": "code",
   "execution_count": 35,
   "metadata": {},
   "outputs": [],
   "source": [
    "from HMM.utils.qhmm_utils import result_getter\n",
    "from qiskit_ibm_runtime import SamplerV2 as Sampler\n",
    "\n",
    "class custom_result_getter(result_getter):\n",
    "    def generate_sequence(self, circuit):\n",
    "        super().generate_sequence()\n",
    "        '''\n",
    "        Insert any add-on, debug tools, or custom transpiler code here\n",
    "        '''\n",
    "        backend = FakeTorino()\n",
    "        transpiled = transpile(circuit, backend)\n",
    "        sampler = Sampler(mode=backend)\n",
    "        job = sampler.run([transpiled])\n",
    "        results = job.result()[0].data\n",
    "        sequence = []\n",
    "        for key in results.keys():\n",
    "            sequence.append(int(results[key].array[0,0]))\n",
    "        return sequence\n",
    "\n",
    "custom_rg = custom_result_getter()"
   ]
  },
  {
   "cell_type": "code",
   "execution_count": 36,
   "metadata": {},
   "outputs": [],
   "source": [
    "neat_model= QHMM(result_getter=custom_rg,\n",
    "                             initial_state=initial_state,\n",
    "                             ansatz=ansatz,\n",
    "                             theta=theta_gen)\n",
    "    \n",
    "seqeunce = neat_model.generate_sequence(length=sequence_length)\n"
   ]
  }
 ],
 "metadata": {
  "kernelspec": {
   "display_name": "Python 3",
   "language": "python",
   "name": "python3"
  },
  "language_info": {
   "codemirror_mode": {
    "name": "ipython",
    "version": 3
   },
   "file_extension": ".py",
   "mimetype": "text/x-python",
   "name": "python",
   "nbconvert_exporter": "python",
   "pygments_lexer": "ipython3",
   "version": "3.11.0"
  }
 },
 "nbformat": 4,
 "nbformat_minor": 2
}
